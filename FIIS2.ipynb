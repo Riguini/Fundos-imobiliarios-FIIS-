{
 "cells": [
  {
   "cell_type": "code",
   "execution_count": 11,
   "metadata": {},
   "outputs": [],
   "source": []
  },
  {
   "cell_type": "code",
   "execution_count": 12,
   "metadata": {},
   "outputs": [],
   "source": []
  },
  {
   "cell_type": "code",
   "execution_count": 14,
   "metadata": {},
   "outputs": [],
   "source": []
  },
  {
   "cell_type": "code",
   "execution_count": 15,
   "metadata": {},
   "outputs": [],
   "source": []
  },
  {
   "cell_type": "code",
   "execution_count": 19,
   "metadata": {},
   "outputs": [
    {
     "name": "stdout",
     "output_type": "stream",
     "text": [
      "A tabela não foi encontrada: HTTPConnectionPool(host='localhost', port=50402): Max retries exceeded with url: /session/7285d6633258cd050110ef9497e8e773/element (Caused by NewConnectionError('<urllib3.connection.HTTPConnection object at 0x000001F788A19E50>: Failed to establish a new connection: [WinError 10061] No connection could be made because the target machine actively refused it'))\n"
     ]
    }
   ],
   "source": []
  },
  {
   "cell_type": "code",
   "execution_count": 20,
   "metadata": {},
   "outputs": [
    {
     "ename": "NameError",
     "evalue": "name 'table' is not defined",
     "output_type": "error",
     "traceback": [
      "\u001b[1;31m---------------------------------------------------------------------------\u001b[0m",
      "\u001b[1;31mNameError\u001b[0m                                 Traceback (most recent call last)",
      "\u001b[1;32mUntitled-2.ipynb Cell 6\u001b[0m in \u001b[0;36m2\n\u001b[0;32m      <a href='vscode-notebook-cell:Untitled-2.ipynb?jupyter-notebook#W6sdW50aXRsZWQ%3D?line=0'>1</a>\u001b[0m \u001b[39m# Obtém todas as linhas da tabela de fundos\u001b[39;00m\n\u001b[1;32m----> <a href='vscode-notebook-cell:Untitled-2.ipynb?jupyter-notebook#W6sdW50aXRsZWQ%3D?line=1'>2</a>\u001b[0m linhas_tabela \u001b[39m=\u001b[39m table\u001b[39m.\u001b[39mfind_elements(By\u001b[39m.\u001b[39mXPATH, \u001b[39m'\u001b[39m\u001b[39m/div\u001b[39m\u001b[39m'\u001b[39m)\n",
      "\u001b[1;31mNameError\u001b[0m: name 'table' is not defined"
     ]
    }
   ],
   "source": []
  },
  {
   "cell_type": "code",
   "execution_count": 9,
   "metadata": {},
   "outputs": [
    {
     "ename": "NameError",
     "evalue": "name 'linhas_tabela' is not defined",
     "output_type": "error",
     "traceback": [
      "\u001b[1;31m---------------------------------------------------------------------------\u001b[0m",
      "\u001b[1;31mNameError\u001b[0m                                 Traceback (most recent call last)",
      "\u001b[1;32mUntitled-2.ipynb Cell 7\u001b[0m in \u001b[0;36m2\n\u001b[0;32m      <a href='vscode-notebook-cell:Untitled-2.ipynb?jupyter-notebook#X10sdW50aXRsZWQ%3D?line=0'>1</a>\u001b[0m \u001b[39m# Percorre as linhas e obtém os dados\u001b[39;00m\n\u001b[1;32m----> <a href='vscode-notebook-cell:Untitled-2.ipynb?jupyter-notebook#X10sdW50aXRsZWQ%3D?line=1'>2</a>\u001b[0m \u001b[39mfor\u001b[39;00m linha \u001b[39min\u001b[39;00m linhas_tabela:\n\u001b[0;32m      <a href='vscode-notebook-cell:Untitled-2.ipynb?jupyter-notebook#X10sdW50aXRsZWQ%3D?line=2'>3</a>\u001b[0m     colunas \u001b[39m=\u001b[39m linha\u001b[39m.\u001b[39mfind_elements(By\u001b[39m.\u001b[39mTAG_NAME, \u001b[39m'\u001b[39m\u001b[39mtd\u001b[39m\u001b[39m'\u001b[39m)\n\u001b[0;32m      <a href='vscode-notebook-cell:Untitled-2.ipynb?jupyter-notebook#X10sdW50aXRsZWQ%3D?line=3'>4</a>\u001b[0m     \u001b[39mif\u001b[39;00m \u001b[39mlen\u001b[39m(colunas) \u001b[39m>\u001b[39m\u001b[39m=\u001b[39m \u001b[39m4\u001b[39m:\n",
      "\u001b[1;31mNameError\u001b[0m: name 'linhas_tabela' is not defined"
     ]
    }
   ],
   "source": [
    "# Percorre as linhas e obtém os dados\n",
    "for linha in linhas_tabela:\n",
    "    colunas = linha.find_elements(By.TAG_NAME, 'td')\n",
    "    if len(colunas) >= 4:\n",
    "        posicao = colunas[0].text\n",
    "        cnpj = colunas[1].text\n",
    "        nome_fundo = colunas[2].text\n",
    "        rentabilidade = colunas[3].text\n",
    "\n",
    "        print(f\"Posição: {posicao}, CNPJ: {cnpj}, Nome do Fundo: {nome_fundo}, Rentabilidade: {rentabilidade}\")"
   ]
  },
  {
   "cell_type": "code",
   "execution_count": null,
   "metadata": {},
   "outputs": [
    {
     "name": "stdout",
     "output_type": "stream",
     "text": [
      "A tabela não foi encontrada: Message: \n",
      "Stacktrace:\n",
      "Backtrace:\n",
      "\tGetHandleVerifier [0x0116A813+48355]\n",
      "\t(No symbol) [0x010FC4B1]\n",
      "\t(No symbol) [0x01005358]\n",
      "\t(No symbol) [0x010309A5]\n",
      "\t(No symbol) [0x01030B3B]\n",
      "\t(No symbol) [0x0105E232]\n",
      "\t(No symbol) [0x0104A784]\n",
      "\t(No symbol) [0x0105C922]\n",
      "\t(No symbol) [0x0104A536]\n",
      "\t(No symbol) [0x010282DC]\n",
      "\t(No symbol) [0x010293DD]\n",
      "\tGetHandleVerifier [0x013CAABD+2539405]\n",
      "\tGetHandleVerifier [0x0140A78F+2800735]\n",
      "\tGetHandleVerifier [0x0140456C+2775612]\n",
      "\tGetHandleVerifier [0x011F51E0+616112]\n",
      "\t(No symbol) [0x01105F8C]\n",
      "\t(No symbol) [0x01102328]\n",
      "\t(No symbol) [0x0110240B]\n",
      "\t(No symbol) [0x010F4FF7]\n",
      "\tBaseThreadInitThunk [0x757D7D59+25]\n",
      "\tRtlInitializeExceptionChain [0x76EEB79B+107]\n",
      "\tRtlClearBits [0x76EEB71F+191]\n",
      "\n"
     ]
    },
    {
     "ename": "NameError",
     "evalue": "name 'table' is not defined",
     "output_type": "error",
     "traceback": [
      "\u001b[1;31m---------------------------------------------------------------------------\u001b[0m",
      "\u001b[1;31mNameError\u001b[0m                                 Traceback (most recent call last)",
      "\u001b[1;32mUntitled-2.ipynb Cell 5\u001b[0m in \u001b[0;36m1\n\u001b[0;32m      <a href='vscode-notebook-cell:Untitled-2.ipynb?jupyter-notebook#W0sdW50aXRsZWQ%3D?line=7'>8</a>\u001b[0m     driver\u001b[39m.\u001b[39mquit()\n\u001b[0;32m     <a href='vscode-notebook-cell:Untitled-2.ipynb?jupyter-notebook#W0sdW50aXRsZWQ%3D?line=9'>10</a>\u001b[0m \u001b[39m# Obtém todas as linhas da tabela de fundos\u001b[39;00m\n\u001b[1;32m---> <a href='vscode-notebook-cell:Untitled-2.ipynb?jupyter-notebook#W0sdW50aXRsZWQ%3D?line=10'>11</a>\u001b[0m linhas_tabela \u001b[39m=\u001b[39m table\u001b[39m.\u001b[39mfind_elements(By\u001b[39m.\u001b[39mXPATH, \u001b[39m'\u001b[39m\u001b[39m.//tbody/tr\u001b[39m\u001b[39m'\u001b[39m)\n\u001b[0;32m     <a href='vscode-notebook-cell:Untitled-2.ipynb?jupyter-notebook#W0sdW50aXRsZWQ%3D?line=12'>13</a>\u001b[0m \u001b[39m# Percorre as linhas e obtém os dados\u001b[39;00m\n\u001b[0;32m     <a href='vscode-notebook-cell:Untitled-2.ipynb?jupyter-notebook#W0sdW50aXRsZWQ%3D?line=13'>14</a>\u001b[0m \u001b[39mfor\u001b[39;00m linha \u001b[39min\u001b[39;00m linhas_tabela:\n",
      "\u001b[1;31mNameError\u001b[0m: name 'table' is not defined"
     ]
    }
   ],
   "source": [
    "\n",
    "# Finaliza o driver\n",
    "driver.quit()\n"
   ]
  },
  {
   "cell_type": "code",
   "execution_count": 10,
   "metadata": {},
   "outputs": [
    {
     "ename": "TypeError",
     "evalue": "__init__() got an unexpected keyword argument 'executable_path'",
     "output_type": "error",
     "traceback": [
      "\u001b[1;31m---------------------------------------------------------------------------\u001b[0m",
      "\u001b[1;31mTypeError\u001b[0m                                 Traceback (most recent call last)",
      "\u001b[1;32mUntitled-2.ipynb Cell 11\u001b[0m in \u001b[0;36m1\n\u001b[0;32m      <a href='vscode-notebook-cell:Untitled-2.ipynb?jupyter-notebook#X13sdW50aXRsZWQ%3D?line=7'>8</a>\u001b[0m url_alvo \u001b[39m=\u001b[39m \u001b[39m'\u001b[39m\u001b[39mhttps://www.fundsexplorer.com.br/ranking\u001b[39m\u001b[39m'\u001b[39m  \u001b[39m# URL alvo para o web scraping\u001b[39;00m\n\u001b[0;32m     <a href='vscode-notebook-cell:Untitled-2.ipynb?jupyter-notebook#X13sdW50aXRsZWQ%3D?line=9'>10</a>\u001b[0m \u001b[39m# Inicializa o driver do Chrome\u001b[39;00m\n\u001b[1;32m---> <a href='vscode-notebook-cell:Untitled-2.ipynb?jupyter-notebook#X13sdW50aXRsZWQ%3D?line=10'>11</a>\u001b[0m driver \u001b[39m=\u001b[39m webdriver\u001b[39m.\u001b[39;49mChrome(executable_path\u001b[39m=\u001b[39;49mdriver_path)\n\u001b[0;32m     <a href='vscode-notebook-cell:Untitled-2.ipynb?jupyter-notebook#X13sdW50aXRsZWQ%3D?line=12'>13</a>\u001b[0m \u001b[39m# Navega para a URL alvo\u001b[39;00m\n\u001b[0;32m     <a href='vscode-notebook-cell:Untitled-2.ipynb?jupyter-notebook#X13sdW50aXRsZWQ%3D?line=13'>14</a>\u001b[0m driver\u001b[39m.\u001b[39mget(url_alvo)\n",
      "\u001b[1;31mTypeError\u001b[0m: __init__() got an unexpected keyword argument 'executable_path'"
     ]
    }
   ],
   "source": [
    "\n",
    "\n",
    "# Configurações do Selenium\n",
    "driver_path = 'caminho_para_o_chromedriver'  # Substitua pelo caminho do seu chromedriver\n",
    "url_alvo = 'https://www.fundsexplorer.com.br/ranking'  # URL alvo para o web scraping\n",
    "\n",
    "# Inicializa o driver do Chrome\n",
    "driver = webdriver.Chrome(executable_path=driver_path)\n",
    "\n",
    "# Navega para a URL alvo\n",
    "driver.get(url_alvo)\n",
    "\n",
    "# Aguarda até que a tabela de fundos seja carregada\n",
    "try:\n",
    "    table = WebDriverWait(driver, 10).until(\n",
    "        EC.presence_of_element_located((By.XPATH, '//*[@id=\"table-ranking\"]'))\n",
    "    )\n",
    "except Exception as e:\n",
    "    print(\"A tabela não foi encontrada:\", e)\n",
    "    driver.quit()\n",
    "    exit()\n",
    "\n",
    "# Obtém todas as linhas da tabela de fundos\n",
    "linhas_tabela = table.find_elements(By.XPATH, './/tbody/tr')\n",
    "\n",
    "# Percorre as linhas e obtém os dados\n",
    "for linha in linhas_tabela:\n",
    "    colunas = linha.find_elements(By.TAG_NAME, 'td')\n",
    "    if len(colunas) >= 4:\n",
    "        posicao = colunas[0].text\n",
    "        cnpj = colunas[1].text\n",
    "        nome_fundo = colunas[2].text\n",
    "        rentabilidade = colunas[3].text\n",
    "\n",
    "        print(f\"Posição: {posicao}, CNPJ: {cnpj}, Nome do Fundo: {nome_fundo}, Rentabilidade: {rentabilidade}\")\n",
    "\n",
    "# Finaliza o driver\n",
    "driver.quit()\n"
   ]
  }
 ],
 "metadata": {
  "kernelspec": {
   "display_name": "Python 3",
   "language": "python",
   "name": "python3"
  },
  "language_info": {
   "codemirror_mode": {
    "name": "ipython",
    "version": 3
   },
   "file_extension": ".py",
   "mimetype": "text/x-python",
   "name": "python",
   "nbconvert_exporter": "python",
   "pygments_lexer": "ipython3",
   "version": "3.9.13"
  },
  "orig_nbformat": 4
 },
 "nbformat": 4,
 "nbformat_minor": 2
}
